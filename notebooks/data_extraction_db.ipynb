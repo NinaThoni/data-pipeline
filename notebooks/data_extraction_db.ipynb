{
 "cells": [
  {
   "cell_type": "code",
   "execution_count": 1,
   "metadata": {},
   "outputs": [],
   "source": [
    "import requests\n",
    "import json\n",
    "import polars as pl\n",
    "import re\n",
    "from datetime import datetime\n",
    "from typing import Optional, Dict, Any, List\n",
    "\n",
    "import os\n",
    "from dotenv import load_dotenv\n",
    "load_dotenv()\n",
    "db_password = os.getenv(\"DB_PASSWORD\")"
   ]
  },
  {
   "cell_type": "code",
   "execution_count": 2,
   "metadata": {},
   "outputs": [
    {
     "name": "stdout",
     "output_type": "stream",
     "text": [
      "✅ API data successfully retrieved!\n"
     ]
    }
   ],
   "source": [
    "# TfL Air Quality API URL\n",
    "API_URL = \"https://api.tfl.gov.uk/AirQuality/\"\n",
    "\n",
    "def fetch_forecast_data(url: str) -> Optional[Dict[str, Any]]:\n",
    "    \n",
    "    try:\n",
    "        response = requests.get(url, timeout=5)\n",
    "        response.raise_for_status()\n",
    "        data = response.json()\n",
    "\n",
    "        return data.get(\"currentForecast\", [])\n",
    "    \n",
    "    except requests.exceptions.Timeout:\n",
    "        print(\"❌ Error: The API request timed out.\")\n",
    "    except requests.exceptions.HTTPError as http_err:\n",
    "        print(f\"❌ HTTP error occurred: {http_err}\")\n",
    "    except requests.exceptions.RequestException as req_err:\n",
    "        print(f\"❌ Request error occurred: {req_err}\")\n",
    "    except json.JSONDecodeError:\n",
    "        print(\"❌ Error: Failed to parse JSON response.\")\n",
    "\n",
    "forecast_data = fetch_forecast_data(API_URL)\n",
    "\n",
    "if forecast_data:\n",
    "    print(\"✅ API data successfully retrieved!\")\n",
    "else:\n",
    "    print(\"❌ Failed to retrieve data.\")"
   ]
  },
  {
   "cell_type": "code",
   "execution_count": 3,
   "metadata": {},
   "outputs": [],
   "source": [
    "def extract_date(forecast_summary: str) -> datetime:\n",
    "    match = re.search(r\"(\\d{1,2} \\w+)\", forecast_summary)\n",
    "\n",
    "    if match:\n",
    "        extracted_date = f\"{match.group(1)} {datetime.today().year}\"\n",
    "        return datetime.strptime(extracted_date,  \"%d %B %Y\")\n",
    "    return None\n",
    "\n",
    "def transform_forecast(forecast: List[Dict]) -> pl.DataFrame:\n",
    "    processed_forecasts = []\n",
    "    \n",
    "    for day in forecast:\n",
    "        processed_forecasts.append({\n",
    "            \"ID\": day.get(\"forecastID\"),\n",
    "            \"Type\": day.get(\"forecastType\"),\n",
    "            \"Band\": day.get(\"forecastBand\"),\n",
    "            \"Summary\": day.get(\"forecastSummary\"),\n",
    "            \"Date\": extract_date(day.get(\"forecastSummary\", \"\")),\n",
    "            \"nO2Band\": day.get(\"nO2Band\"),\n",
    "            \"o3Band\": day.get(\"o3Band\"),\n",
    "            \"pM10Band\": day.get(\"pM10Band\"),\n",
    "            \"pM25Band\": day.get(\"pM25Band\"),\n",
    "            \"sO2Band\": day.get(\"sO2Band\"),\n",
    "            \"Text\": day.get(\"forecastText\"),\n",
    "        })\n",
    "\n",
    "    return pl.DataFrame(processed_forecasts)\n",
    "\n",
    "df = transform_forecast(forecast_data)\n"
   ]
  },
  {
   "cell_type": "code",
   "execution_count": 4,
   "metadata": {},
   "outputs": [],
   "source": [
    "import psycopg2\n",
    "\n",
    "conn = psycopg2.connect(\n",
    "    dbname=\"air_quality_db\",\n",
    "    user=\"postgres\",\n",
    "    password=db_password,\n",
    "    host=\"localhost\",\n",
    "    port=\"5432\"\n",
    ")\n",
    "\n",
    "cursor = conn.cursor()"
   ]
  },
  {
   "cell_type": "code",
   "execution_count": 5,
   "metadata": {},
   "outputs": [
    {
     "name": "stdout",
     "output_type": "stream",
     "text": [
      "[(47943,), (47947,)]\n"
     ]
    }
   ],
   "source": [
    "cursor.execute(\"SELECT ID FROM air_quality;\")\n",
    "print(cursor.fetchall())"
   ]
  },
  {
   "cell_type": "code",
   "execution_count": 6,
   "metadata": {},
   "outputs": [],
   "source": [
    "def insert_data(df):\n",
    "    for row in df.iter_rows(named=True):\n",
    "        cursor.execute(\"\"\"\n",
    "            INSERT INTO air_quality (ID, Type, Band, Summary, Date, nO2Band, o3Band, pM10Band, pM25Band, sO2Band, Text)\n",
    "            VALUES (%s, %s, %s, %s, %s, %s, %s, %s, %s, %s, %s)\n",
    "            ON CONFLICT (ID) DO NOTHING;  -- Prevent duplicate inserts\n",
    "        \"\"\", (\n",
    "            row[\"ID\"], row[\"Type\"], row[\"Band\"], row[\"Summary\"],\n",
    "            row[\"Date\"], row[\"nO2Band\"], row[\"o3Band\"],\n",
    "            row[\"pM10Band\"], row[\"pM25Band\"], row[\"sO2Band\"], row[\"Text\"]\n",
    "        ))\n",
    "\n",
    "    conn.commit()"
   ]
  },
  {
   "cell_type": "code",
   "execution_count": 7,
   "metadata": {},
   "outputs": [],
   "source": [
    "# Call the function with your DataFrame\n",
    "insert_data(df)\n",
    "\n",
    "# Close connection\n",
    "cursor.close()\n",
    "conn.close()"
   ]
  }
 ],
 "metadata": {
  "kernelspec": {
   "display_name": "venv",
   "language": "python",
   "name": "python3"
  },
  "language_info": {
   "codemirror_mode": {
    "name": "ipython",
    "version": 3
   },
   "file_extension": ".py",
   "mimetype": "text/x-python",
   "name": "python",
   "nbconvert_exporter": "python",
   "pygments_lexer": "ipython3",
   "version": "3.10.12"
  }
 },
 "nbformat": 4,
 "nbformat_minor": 2
}
